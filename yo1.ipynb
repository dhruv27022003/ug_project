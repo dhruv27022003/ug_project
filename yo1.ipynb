{
 "cells": [
  {
   "cell_type": "code",
   "execution_count": 9,
   "id": "a8f0b148",
   "metadata": {},
   "outputs": [],
   "source": [
    "import pandas as pd\n",
    "import numpy as np\n",
    "from matplotlib import pyplot as plt\n",
    "%matplotlib inline\n",
    "import matplotlib \n",
    "matplotlib.rcParams[\"figure.figsize\"] = (20,10)"
   ]
  },
  {
   "cell_type": "code",
   "execution_count": 10,
   "id": "5229f1b0",
   "metadata": {},
   "outputs": [],
   "source": [
    "df12 = pd.read_csv(\"waterdept_prediction.csv\")\n"
   ]
  },
  {
   "cell_type": "code",
   "execution_count": 11,
   "id": "585fa33c",
   "metadata": {},
   "outputs": [
    {
     "data": {
      "text/plain": [
       "(168, 7)"
      ]
     },
     "execution_count": 11,
     "metadata": {},
     "output_type": "execute_result"
    }
   ],
   "source": [
    "df12.shape"
   ]
  },
  {
   "cell_type": "code",
   "execution_count": 12,
   "id": "0e232ca9",
   "metadata": {},
   "outputs": [
    {
     "data": {
      "text/html": [
       "<div>\n",
       "<style scoped>\n",
       "    .dataframe tbody tr th:only-of-type {\n",
       "        vertical-align: middle;\n",
       "    }\n",
       "\n",
       "    .dataframe tbody tr th {\n",
       "        vertical-align: top;\n",
       "    }\n",
       "\n",
       "    .dataframe thead th {\n",
       "        text-align: right;\n",
       "    }\n",
       "</style>\n",
       "<table border=\"1\" class=\"dataframe\">\n",
       "  <thead>\n",
       "    <tr style=\"text-align: right;\">\n",
       "      <th></th>\n",
       "      <th>Year</th>\n",
       "      <th>Month</th>\n",
       "      <th>Irrigation</th>\n",
       "      <th>Rainfall</th>\n",
       "      <th>Tem</th>\n",
       "      <th>Evaporation</th>\n",
       "      <th>Depth</th>\n",
       "    </tr>\n",
       "  </thead>\n",
       "  <tbody>\n",
       "    <tr>\n",
       "      <th>0</th>\n",
       "      <td>2000</td>\n",
       "      <td>1</td>\n",
       "      <td>1992.508320</td>\n",
       "      <td>314.195717</td>\n",
       "      <td>-19.295408</td>\n",
       "      <td>12040.447639</td>\n",
       "      <td>8.972729</td>\n",
       "    </tr>\n",
       "    <tr>\n",
       "      <th>1</th>\n",
       "      <td>2000</td>\n",
       "      <td>2</td>\n",
       "      <td>-2042.251709</td>\n",
       "      <td>-1633.766775</td>\n",
       "      <td>-38.449836</td>\n",
       "      <td>18045.516826</td>\n",
       "      <td>8.837238</td>\n",
       "    </tr>\n",
       "    <tr>\n",
       "      <th>2</th>\n",
       "      <td>2000</td>\n",
       "      <td>3</td>\n",
       "      <td>-1374.450691</td>\n",
       "      <td>868.263712</td>\n",
       "      <td>-36.962377</td>\n",
       "      <td>90248.598688</td>\n",
       "      <td>10.716839</td>\n",
       "    </tr>\n",
       "    <tr>\n",
       "      <th>3</th>\n",
       "      <td>2000</td>\n",
       "      <td>4</td>\n",
       "      <td>29951.326599</td>\n",
       "      <td>309.857142</td>\n",
       "      <td>-13.165645</td>\n",
       "      <td>141672.950997</td>\n",
       "      <td>8.904410</td>\n",
       "    </tr>\n",
       "    <tr>\n",
       "      <th>4</th>\n",
       "      <td>2000</td>\n",
       "      <td>5</td>\n",
       "      <td>43748.371155</td>\n",
       "      <td>-291.325005</td>\n",
       "      <td>19.602103</td>\n",
       "      <td>188789.213348</td>\n",
       "      <td>6.858177</td>\n",
       "    </tr>\n",
       "    <tr>\n",
       "      <th>5</th>\n",
       "      <td>2000</td>\n",
       "      <td>6</td>\n",
       "      <td>34502.648660</td>\n",
       "      <td>17799.096834</td>\n",
       "      <td>57.737034</td>\n",
       "      <td>149223.642081</td>\n",
       "      <td>5.284515</td>\n",
       "    </tr>\n",
       "    <tr>\n",
       "      <th>6</th>\n",
       "      <td>2000</td>\n",
       "      <td>7</td>\n",
       "      <td>30296.987386</td>\n",
       "      <td>14179.731055</td>\n",
       "      <td>91.136063</td>\n",
       "      <td>173045.996346</td>\n",
       "      <td>6.096910</td>\n",
       "    </tr>\n",
       "    <tr>\n",
       "      <th>7</th>\n",
       "      <td>2000</td>\n",
       "      <td>8</td>\n",
       "      <td>19459.005158</td>\n",
       "      <td>29671.991295</td>\n",
       "      <td>106.061944</td>\n",
       "      <td>125595.394087</td>\n",
       "      <td>7.886008</td>\n",
       "    </tr>\n",
       "    <tr>\n",
       "      <th>8</th>\n",
       "      <td>2000</td>\n",
       "      <td>9</td>\n",
       "      <td>17758.697582</td>\n",
       "      <td>21215.182308</td>\n",
       "      <td>110.797848</td>\n",
       "      <td>93648.565330</td>\n",
       "      <td>7.917243</td>\n",
       "    </tr>\n",
       "    <tr>\n",
       "      <th>9</th>\n",
       "      <td>2000</td>\n",
       "      <td>10</td>\n",
       "      <td>62539.841418</td>\n",
       "      <td>4294.421332</td>\n",
       "      <td>86.914527</td>\n",
       "      <td>55423.354404</td>\n",
       "      <td>7.545082</td>\n",
       "    </tr>\n",
       "  </tbody>\n",
       "</table>\n",
       "</div>"
      ],
      "text/plain": [
       "   Year  Month    Irrigation      Rainfall         Tem    Evaporation  \\\n",
       "0  2000      1   1992.508320    314.195717  -19.295408   12040.447639   \n",
       "1  2000      2  -2042.251709  -1633.766775  -38.449836   18045.516826   \n",
       "2  2000      3  -1374.450691    868.263712  -36.962377   90248.598688   \n",
       "3  2000      4  29951.326599    309.857142  -13.165645  141672.950997   \n",
       "4  2000      5  43748.371155   -291.325005   19.602103  188789.213348   \n",
       "5  2000      6  34502.648660  17799.096834   57.737034  149223.642081   \n",
       "6  2000      7  30296.987386  14179.731055   91.136063  173045.996346   \n",
       "7  2000      8  19459.005158  29671.991295  106.061944  125595.394087   \n",
       "8  2000      9  17758.697582  21215.182308  110.797848   93648.565330   \n",
       "9  2000     10  62539.841418   4294.421332   86.914527   55423.354404   \n",
       "\n",
       "       Depth  \n",
       "0   8.972729  \n",
       "1   8.837238  \n",
       "2  10.716839  \n",
       "3   8.904410  \n",
       "4   6.858177  \n",
       "5   5.284515  \n",
       "6   6.096910  \n",
       "7   7.886008  \n",
       "8   7.917243  \n",
       "9   7.545082  "
      ]
     },
     "execution_count": 12,
     "metadata": {},
     "output_type": "execute_result"
    }
   ],
   "source": [
    "df12.head(10)"
   ]
  },
  {
   "cell_type": "code",
   "execution_count": 13,
   "id": "7e3b75f1",
   "metadata": {},
   "outputs": [],
   "source": [
    "X = df12.drop(['Depth'],axis='columns')\n",
    "y = df12.Depth"
   ]
  },
  {
   "cell_type": "code",
   "execution_count": 14,
   "id": "64e21414",
   "metadata": {},
   "outputs": [],
   "source": [
    "from sklearn.model_selection import train_test_split\n",
    "X_train, X_test, y_train, y_test = train_test_split(X,y,test_size=0.2,random_state=10)"
   ]
  },
  {
   "cell_type": "code",
   "execution_count": 15,
   "id": "ad1d14fe",
   "metadata": {},
   "outputs": [
    {
     "data": {
      "text/plain": [
       "0.18700993756368223"
      ]
     },
     "execution_count": 15,
     "metadata": {},
     "output_type": "execute_result"
    }
   ],
   "source": [
    "from sklearn.linear_model import LinearRegression\n",
    "lr_clf = LinearRegression()\n",
    "lr_clf.fit(X_train,y_train)\n",
    "lr_clf.score(X_test,y_test)"
   ]
  },
  {
   "cell_type": "code",
   "execution_count": 16,
   "id": "65a53e86",
   "metadata": {},
   "outputs": [
    {
     "data": {
      "text/plain": [
       "array([0.41892064, 0.36851231, 0.3348585 , 0.34438948, 0.283743  ])"
      ]
     },
     "execution_count": 16,
     "metadata": {},
     "output_type": "execute_result"
    }
   ],
   "source": [
    "from sklearn.model_selection import ShuffleSplit\n",
    "from sklearn.model_selection import cross_val_score\n",
    "\n",
    "cv = ShuffleSplit(n_splits=5, test_size=0.2, random_state=0)\n",
    "\n",
    "cross_val_score(LinearRegression(), X, y, cv=cv)"
   ]
  },
  {
   "cell_type": "code",
   "execution_count": 17,
   "id": "97b01152",
   "metadata": {},
   "outputs": [],
   "source": [
    "import pickle\n",
    "with open('waterdept.pickle','wb') as f:\n",
    "    pickle.dump(lr_clf,f)"
   ]
  },
  {
   "cell_type": "code",
   "execution_count": 18,
   "id": "9f9f3b27",
   "metadata": {},
   "outputs": [],
   "source": [
    "import json\n",
    "columns = {\n",
    "    'data_columns' : [col.lower() for col in X.columns]\n",
    "}\n",
    "with open(\"columns.json\",\"w\") as f:\n",
    "    f.write(json.dumps(columns))"
   ]
  }
 ],
 "metadata": {
  "kernelspec": {
   "display_name": "Python 3 (ipykernel)",
   "language": "python",
   "name": "python3"
  },
  "language_info": {
   "codemirror_mode": {
    "name": "ipython",
    "version": 3
   },
   "file_extension": ".py",
   "mimetype": "text/x-python",
   "name": "python",
   "nbconvert_exporter": "python",
   "pygments_lexer": "ipython3",
   "version": "3.10.10"
  }
 },
 "nbformat": 4,
 "nbformat_minor": 5
}
